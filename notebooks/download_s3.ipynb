{
 "metadata": {
  "language_info": {
   "codemirror_mode": {
    "name": "ipython",
    "version": 3
   },
   "file_extension": ".py",
   "mimetype": "text/x-python",
   "name": "python",
   "nbconvert_exporter": "python",
   "pygments_lexer": "ipython3",
   "version": "3.6.9-final"
  },
  "orig_nbformat": 2,
  "kernelspec": {
   "name": "python3",
   "display_name": "Python 3",
   "language": "python"
  }
 },
 "nbformat": 4,
 "nbformat_minor": 2,
 "cells": [
  {
   "cell_type": "code",
   "execution_count": null,
   "metadata": {},
   "outputs": [],
   "source": [
    "import os\n",
    "from boto.s3.connection import S3Connection\n",
    "from boto.s3.key import Key\n",
    "from boto import s3\n",
    "import boto3\n",
    "from boto import boto\n",
    "from configparser import ConfigParser\n",
    "import json\n",
    "\n",
    "import configparser\n",
    "import os.path\n",
    "from os import path\n"
   ]
  },
  {
   "cell_type": "code",
   "execution_count": null,
   "metadata": {},
   "outputs": [],
   "source": [
    "\n",
    "config_parser = configparser.ConfigParser()\n",
    "config_parser.read(\"/credentials.ini\")\n",
    "BUCKET_NAME = config_parser['MAIN']['BUCKET_NAME']\n"
   ]
  },
  {
   "cell_type": "code",
   "execution_count": null,
   "metadata": {},
   "outputs": [],
   "source": [
    "cred = boto3.Session().get_credentials()\n",
    "ACCESS_KEY = cred.access_key\n",
    "SECRET_KEY = cred.secret_key\n",
    "\n",
    "s3 = boto3.resource('s3', region_name='us-east-2')\n",
    "bucket = s3.Bucket(BUCKET_NAME)\n",
    "\n",
    "for my_bucket_object in bucket.objects.all():\n",
    "    print(my_bucket_object)"
   ]
  },
  {
   "cell_type": "code",
   "execution_count": null,
   "metadata": {},
   "outputs": [],
   "source": [
    "\n",
    "s3client = boto3.client('s3', \n",
    "            aws_access_key_id = ACCESS_KEY, \n",
    "            aws_secret_access_key = SECRET_KEY, \n",
    "            region_name='us-east-2'\n",
    "        )\n",
    "\n",
    "response = s3client.get_object(Bucket=BUCKET_NAME,Key='myfile.json')\n",
    "body = response['Body'].read()"
   ]
  },
  {
   "cell_type": "code",
   "execution_count": null,
   "metadata": {},
   "outputs": [],
   "source": [
    "body"
   ]
  },
  {
   "cell_type": "code",
   "execution_count": null,
   "metadata": {},
   "outputs": [],
   "source": [
    "json_obj = json.loads(body)\n",
    "print(json_obj) "
   ]
  },
  {
   "cell_type": "code",
   "execution_count": null,
   "metadata": {},
   "outputs": [],
   "source": [
    "SECRET_KEY"
   ]
  },
  {
   "cell_type": "code",
   "execution_count": null,
   "metadata": {},
   "outputs": [],
   "source": []
  }
 ]
}